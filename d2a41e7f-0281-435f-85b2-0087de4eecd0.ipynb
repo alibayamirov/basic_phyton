{
 "cells": [
  {
   "cell_type": "markdown",
   "id": "14147a77",
   "metadata": {
    "deletable": false,
    "editable": false,
    "id": "c81daeeb"
   },
   "source": [
    "# Исследование надежности заемщиков\n"
   ]
  },
  {
   "cell_type": "markdown",
   "id": "390e9fa0",
   "metadata": {
    "deletable": false,
    "editable": false,
    "id": "827c20bf"
   },
   "source": [
    "Во второй части проекта вы выполните шаги 3 и 4. Их вручную проверит ревьюер.\n",
    "Чтобы вам не пришлось писать код заново для шагов 1 и 2, мы добавили авторские решения в ячейки с кодом. \n",
    "\n"
   ]
  },
  {
   "cell_type": "markdown",
   "id": "a2997472",
   "metadata": {
    "deletable": false,
    "editable": false,
    "id": "744d7639"
   },
   "source": [
    "## Откройте таблицу и изучите общую информацию о данных"
   ]
  },
  {
   "cell_type": "markdown",
   "id": "1b72d070",
   "metadata": {
    "deletable": false,
    "editable": false,
    "id": "e7a14c31"
   },
   "source": [
    "**Задание 1. Импортируйте библиотеку pandas. Считайте данные из csv-файла в датафрейм и сохраните в переменную `data`. Путь к файлу:**\n",
    "\n",
    "`/datasets/data.csv`"
   ]
  },
  {
   "cell_type": "code",
   "execution_count": 2,
   "id": "bab9f64e",
   "metadata": {
    "deletable": false,
    "id": "7bcf75c9"
   },
   "outputs": [],
   "source": [
    "import pandas as pd\n",
    "\n",
    "try:\n",
    "    data = pd.read_csv('/datasets/data.csv')\n",
    "except:\n",
    "    data = pd.read_csv('https://code.s3.yandex.net/datasets/data.csv')"
   ]
  },
  {
   "cell_type": "markdown",
   "id": "83b2c4f4",
   "metadata": {
    "deletable": false,
    "editable": false,
    "id": "b8038fe3"
   },
   "source": [
    "**Задание 2. Выведите первые 20 строчек датафрейма `data` на экран.**"
   ]
  },
  {
   "cell_type": "code",
   "execution_count": 3,
   "id": "84c76e8b",
   "metadata": {
    "deletable": false,
    "id": "2a7cab99",
    "outputId": "1a8f3ef2-d323-4ec2-ddf7-89670b5944c4"
   },
   "outputs": [
    {
     "data": {
      "text/html": [
       "<div>\n",
       "<style scoped>\n",
       "    .dataframe tbody tr th:only-of-type {\n",
       "        vertical-align: middle;\n",
       "    }\n",
       "\n",
       "    .dataframe tbody tr th {\n",
       "        vertical-align: top;\n",
       "    }\n",
       "\n",
       "    .dataframe thead th {\n",
       "        text-align: right;\n",
       "    }\n",
       "</style>\n",
       "<table border=\"1\" class=\"dataframe\">\n",
       "  <thead>\n",
       "    <tr style=\"text-align: right;\">\n",
       "      <th></th>\n",
       "      <th>children</th>\n",
       "      <th>days_employed</th>\n",
       "      <th>dob_years</th>\n",
       "      <th>education</th>\n",
       "      <th>education_id</th>\n",
       "      <th>family_status</th>\n",
       "      <th>family_status_id</th>\n",
       "      <th>gender</th>\n",
       "      <th>income_type</th>\n",
       "      <th>debt</th>\n",
       "      <th>total_income</th>\n",
       "      <th>purpose</th>\n",
       "    </tr>\n",
       "  </thead>\n",
       "  <tbody>\n",
       "    <tr>\n",
       "      <th>0</th>\n",
       "      <td>1</td>\n",
       "      <td>-8437.673028</td>\n",
       "      <td>42</td>\n",
       "      <td>высшее</td>\n",
       "      <td>0</td>\n",
       "      <td>женат / замужем</td>\n",
       "      <td>0</td>\n",
       "      <td>F</td>\n",
       "      <td>сотрудник</td>\n",
       "      <td>0</td>\n",
       "      <td>253875.639453</td>\n",
       "      <td>покупка жилья</td>\n",
       "    </tr>\n",
       "    <tr>\n",
       "      <th>1</th>\n",
       "      <td>1</td>\n",
       "      <td>-4024.803754</td>\n",
       "      <td>36</td>\n",
       "      <td>среднее</td>\n",
       "      <td>1</td>\n",
       "      <td>женат / замужем</td>\n",
       "      <td>0</td>\n",
       "      <td>F</td>\n",
       "      <td>сотрудник</td>\n",
       "      <td>0</td>\n",
       "      <td>112080.014102</td>\n",
       "      <td>приобретение автомобиля</td>\n",
       "    </tr>\n",
       "    <tr>\n",
       "      <th>2</th>\n",
       "      <td>0</td>\n",
       "      <td>-5623.422610</td>\n",
       "      <td>33</td>\n",
       "      <td>Среднее</td>\n",
       "      <td>1</td>\n",
       "      <td>женат / замужем</td>\n",
       "      <td>0</td>\n",
       "      <td>M</td>\n",
       "      <td>сотрудник</td>\n",
       "      <td>0</td>\n",
       "      <td>145885.952297</td>\n",
       "      <td>покупка жилья</td>\n",
       "    </tr>\n",
       "    <tr>\n",
       "      <th>3</th>\n",
       "      <td>3</td>\n",
       "      <td>-4124.747207</td>\n",
       "      <td>32</td>\n",
       "      <td>среднее</td>\n",
       "      <td>1</td>\n",
       "      <td>женат / замужем</td>\n",
       "      <td>0</td>\n",
       "      <td>M</td>\n",
       "      <td>сотрудник</td>\n",
       "      <td>0</td>\n",
       "      <td>267628.550329</td>\n",
       "      <td>дополнительное образование</td>\n",
       "    </tr>\n",
       "    <tr>\n",
       "      <th>4</th>\n",
       "      <td>0</td>\n",
       "      <td>340266.072047</td>\n",
       "      <td>53</td>\n",
       "      <td>среднее</td>\n",
       "      <td>1</td>\n",
       "      <td>гражданский брак</td>\n",
       "      <td>1</td>\n",
       "      <td>F</td>\n",
       "      <td>пенсионер</td>\n",
       "      <td>0</td>\n",
       "      <td>158616.077870</td>\n",
       "      <td>сыграть свадьбу</td>\n",
       "    </tr>\n",
       "    <tr>\n",
       "      <th>5</th>\n",
       "      <td>0</td>\n",
       "      <td>-926.185831</td>\n",
       "      <td>27</td>\n",
       "      <td>высшее</td>\n",
       "      <td>0</td>\n",
       "      <td>гражданский брак</td>\n",
       "      <td>1</td>\n",
       "      <td>M</td>\n",
       "      <td>компаньон</td>\n",
       "      <td>0</td>\n",
       "      <td>255763.565419</td>\n",
       "      <td>покупка жилья</td>\n",
       "    </tr>\n",
       "    <tr>\n",
       "      <th>6</th>\n",
       "      <td>0</td>\n",
       "      <td>-2879.202052</td>\n",
       "      <td>43</td>\n",
       "      <td>высшее</td>\n",
       "      <td>0</td>\n",
       "      <td>женат / замужем</td>\n",
       "      <td>0</td>\n",
       "      <td>F</td>\n",
       "      <td>компаньон</td>\n",
       "      <td>0</td>\n",
       "      <td>240525.971920</td>\n",
       "      <td>операции с жильем</td>\n",
       "    </tr>\n",
       "    <tr>\n",
       "      <th>7</th>\n",
       "      <td>0</td>\n",
       "      <td>-152.779569</td>\n",
       "      <td>50</td>\n",
       "      <td>СРЕДНЕЕ</td>\n",
       "      <td>1</td>\n",
       "      <td>женат / замужем</td>\n",
       "      <td>0</td>\n",
       "      <td>M</td>\n",
       "      <td>сотрудник</td>\n",
       "      <td>0</td>\n",
       "      <td>135823.934197</td>\n",
       "      <td>образование</td>\n",
       "    </tr>\n",
       "    <tr>\n",
       "      <th>8</th>\n",
       "      <td>2</td>\n",
       "      <td>-6929.865299</td>\n",
       "      <td>35</td>\n",
       "      <td>ВЫСШЕЕ</td>\n",
       "      <td>0</td>\n",
       "      <td>гражданский брак</td>\n",
       "      <td>1</td>\n",
       "      <td>F</td>\n",
       "      <td>сотрудник</td>\n",
       "      <td>0</td>\n",
       "      <td>95856.832424</td>\n",
       "      <td>на проведение свадьбы</td>\n",
       "    </tr>\n",
       "    <tr>\n",
       "      <th>9</th>\n",
       "      <td>0</td>\n",
       "      <td>-2188.756445</td>\n",
       "      <td>41</td>\n",
       "      <td>среднее</td>\n",
       "      <td>1</td>\n",
       "      <td>женат / замужем</td>\n",
       "      <td>0</td>\n",
       "      <td>M</td>\n",
       "      <td>сотрудник</td>\n",
       "      <td>0</td>\n",
       "      <td>144425.938277</td>\n",
       "      <td>покупка жилья для семьи</td>\n",
       "    </tr>\n",
       "    <tr>\n",
       "      <th>10</th>\n",
       "      <td>2</td>\n",
       "      <td>-4171.483647</td>\n",
       "      <td>36</td>\n",
       "      <td>высшее</td>\n",
       "      <td>0</td>\n",
       "      <td>женат / замужем</td>\n",
       "      <td>0</td>\n",
       "      <td>M</td>\n",
       "      <td>компаньон</td>\n",
       "      <td>0</td>\n",
       "      <td>113943.491460</td>\n",
       "      <td>покупка недвижимости</td>\n",
       "    </tr>\n",
       "    <tr>\n",
       "      <th>11</th>\n",
       "      <td>0</td>\n",
       "      <td>-792.701887</td>\n",
       "      <td>40</td>\n",
       "      <td>среднее</td>\n",
       "      <td>1</td>\n",
       "      <td>женат / замужем</td>\n",
       "      <td>0</td>\n",
       "      <td>F</td>\n",
       "      <td>сотрудник</td>\n",
       "      <td>0</td>\n",
       "      <td>77069.234271</td>\n",
       "      <td>покупка коммерческой недвижимости</td>\n",
       "    </tr>\n",
       "    <tr>\n",
       "      <th>12</th>\n",
       "      <td>0</td>\n",
       "      <td>NaN</td>\n",
       "      <td>65</td>\n",
       "      <td>среднее</td>\n",
       "      <td>1</td>\n",
       "      <td>гражданский брак</td>\n",
       "      <td>1</td>\n",
       "      <td>M</td>\n",
       "      <td>пенсионер</td>\n",
       "      <td>0</td>\n",
       "      <td>NaN</td>\n",
       "      <td>сыграть свадьбу</td>\n",
       "    </tr>\n",
       "    <tr>\n",
       "      <th>13</th>\n",
       "      <td>0</td>\n",
       "      <td>-1846.641941</td>\n",
       "      <td>54</td>\n",
       "      <td>неоконченное высшее</td>\n",
       "      <td>2</td>\n",
       "      <td>женат / замужем</td>\n",
       "      <td>0</td>\n",
       "      <td>F</td>\n",
       "      <td>сотрудник</td>\n",
       "      <td>0</td>\n",
       "      <td>130458.228857</td>\n",
       "      <td>приобретение автомобиля</td>\n",
       "    </tr>\n",
       "    <tr>\n",
       "      <th>14</th>\n",
       "      <td>0</td>\n",
       "      <td>-1844.956182</td>\n",
       "      <td>56</td>\n",
       "      <td>высшее</td>\n",
       "      <td>0</td>\n",
       "      <td>гражданский брак</td>\n",
       "      <td>1</td>\n",
       "      <td>F</td>\n",
       "      <td>компаньон</td>\n",
       "      <td>1</td>\n",
       "      <td>165127.911772</td>\n",
       "      <td>покупка жилой недвижимости</td>\n",
       "    </tr>\n",
       "    <tr>\n",
       "      <th>15</th>\n",
       "      <td>1</td>\n",
       "      <td>-972.364419</td>\n",
       "      <td>26</td>\n",
       "      <td>среднее</td>\n",
       "      <td>1</td>\n",
       "      <td>женат / замужем</td>\n",
       "      <td>0</td>\n",
       "      <td>F</td>\n",
       "      <td>сотрудник</td>\n",
       "      <td>0</td>\n",
       "      <td>116820.904450</td>\n",
       "      <td>строительство собственной недвижимости</td>\n",
       "    </tr>\n",
       "    <tr>\n",
       "      <th>16</th>\n",
       "      <td>0</td>\n",
       "      <td>-1719.934226</td>\n",
       "      <td>35</td>\n",
       "      <td>среднее</td>\n",
       "      <td>1</td>\n",
       "      <td>женат / замужем</td>\n",
       "      <td>0</td>\n",
       "      <td>F</td>\n",
       "      <td>сотрудник</td>\n",
       "      <td>0</td>\n",
       "      <td>289202.704229</td>\n",
       "      <td>недвижимость</td>\n",
       "    </tr>\n",
       "    <tr>\n",
       "      <th>17</th>\n",
       "      <td>0</td>\n",
       "      <td>-2369.999720</td>\n",
       "      <td>33</td>\n",
       "      <td>высшее</td>\n",
       "      <td>0</td>\n",
       "      <td>гражданский брак</td>\n",
       "      <td>1</td>\n",
       "      <td>M</td>\n",
       "      <td>сотрудник</td>\n",
       "      <td>0</td>\n",
       "      <td>90410.586745</td>\n",
       "      <td>строительство недвижимости</td>\n",
       "    </tr>\n",
       "    <tr>\n",
       "      <th>18</th>\n",
       "      <td>0</td>\n",
       "      <td>400281.136913</td>\n",
       "      <td>53</td>\n",
       "      <td>среднее</td>\n",
       "      <td>1</td>\n",
       "      <td>вдовец / вдова</td>\n",
       "      <td>2</td>\n",
       "      <td>F</td>\n",
       "      <td>пенсионер</td>\n",
       "      <td>0</td>\n",
       "      <td>56823.777243</td>\n",
       "      <td>на покупку подержанного автомобиля</td>\n",
       "    </tr>\n",
       "    <tr>\n",
       "      <th>19</th>\n",
       "      <td>0</td>\n",
       "      <td>-10038.818549</td>\n",
       "      <td>48</td>\n",
       "      <td>СРЕДНЕЕ</td>\n",
       "      <td>1</td>\n",
       "      <td>в разводе</td>\n",
       "      <td>3</td>\n",
       "      <td>F</td>\n",
       "      <td>сотрудник</td>\n",
       "      <td>0</td>\n",
       "      <td>242831.107982</td>\n",
       "      <td>на покупку своего автомобиля</td>\n",
       "    </tr>\n",
       "  </tbody>\n",
       "</table>\n",
       "</div>"
      ],
      "text/plain": [
       "    children  days_employed  dob_years            education  education_id  \\\n",
       "0          1   -8437.673028         42               высшее             0   \n",
       "1          1   -4024.803754         36              среднее             1   \n",
       "2          0   -5623.422610         33              Среднее             1   \n",
       "3          3   -4124.747207         32              среднее             1   \n",
       "4          0  340266.072047         53              среднее             1   \n",
       "5          0    -926.185831         27               высшее             0   \n",
       "6          0   -2879.202052         43               высшее             0   \n",
       "7          0    -152.779569         50              СРЕДНЕЕ             1   \n",
       "8          2   -6929.865299         35               ВЫСШЕЕ             0   \n",
       "9          0   -2188.756445         41              среднее             1   \n",
       "10         2   -4171.483647         36               высшее             0   \n",
       "11         0    -792.701887         40              среднее             1   \n",
       "12         0            NaN         65              среднее             1   \n",
       "13         0   -1846.641941         54  неоконченное высшее             2   \n",
       "14         0   -1844.956182         56               высшее             0   \n",
       "15         1    -972.364419         26              среднее             1   \n",
       "16         0   -1719.934226         35              среднее             1   \n",
       "17         0   -2369.999720         33               высшее             0   \n",
       "18         0  400281.136913         53              среднее             1   \n",
       "19         0  -10038.818549         48              СРЕДНЕЕ             1   \n",
       "\n",
       "       family_status  family_status_id gender income_type  debt  \\\n",
       "0    женат / замужем                 0      F   сотрудник     0   \n",
       "1    женат / замужем                 0      F   сотрудник     0   \n",
       "2    женат / замужем                 0      M   сотрудник     0   \n",
       "3    женат / замужем                 0      M   сотрудник     0   \n",
       "4   гражданский брак                 1      F   пенсионер     0   \n",
       "5   гражданский брак                 1      M   компаньон     0   \n",
       "6    женат / замужем                 0      F   компаньон     0   \n",
       "7    женат / замужем                 0      M   сотрудник     0   \n",
       "8   гражданский брак                 1      F   сотрудник     0   \n",
       "9    женат / замужем                 0      M   сотрудник     0   \n",
       "10   женат / замужем                 0      M   компаньон     0   \n",
       "11   женат / замужем                 0      F   сотрудник     0   \n",
       "12  гражданский брак                 1      M   пенсионер     0   \n",
       "13   женат / замужем                 0      F   сотрудник     0   \n",
       "14  гражданский брак                 1      F   компаньон     1   \n",
       "15   женат / замужем                 0      F   сотрудник     0   \n",
       "16   женат / замужем                 0      F   сотрудник     0   \n",
       "17  гражданский брак                 1      M   сотрудник     0   \n",
       "18    вдовец / вдова                 2      F   пенсионер     0   \n",
       "19         в разводе                 3      F   сотрудник     0   \n",
       "\n",
       "     total_income                                 purpose  \n",
       "0   253875.639453                           покупка жилья  \n",
       "1   112080.014102                 приобретение автомобиля  \n",
       "2   145885.952297                           покупка жилья  \n",
       "3   267628.550329              дополнительное образование  \n",
       "4   158616.077870                         сыграть свадьбу  \n",
       "5   255763.565419                           покупка жилья  \n",
       "6   240525.971920                       операции с жильем  \n",
       "7   135823.934197                             образование  \n",
       "8    95856.832424                   на проведение свадьбы  \n",
       "9   144425.938277                 покупка жилья для семьи  \n",
       "10  113943.491460                    покупка недвижимости  \n",
       "11   77069.234271       покупка коммерческой недвижимости  \n",
       "12            NaN                         сыграть свадьбу  \n",
       "13  130458.228857                 приобретение автомобиля  \n",
       "14  165127.911772              покупка жилой недвижимости  \n",
       "15  116820.904450  строительство собственной недвижимости  \n",
       "16  289202.704229                            недвижимость  \n",
       "17   90410.586745              строительство недвижимости  \n",
       "18   56823.777243      на покупку подержанного автомобиля  \n",
       "19  242831.107982            на покупку своего автомобиля  "
      ]
     },
     "execution_count": 3,
     "metadata": {},
     "output_type": "execute_result"
    }
   ],
   "source": [
    "data.head(20)"
   ]
  },
  {
   "cell_type": "markdown",
   "id": "7e15e6c2",
   "metadata": {
    "deletable": false,
    "editable": false,
    "id": "1c12e233"
   },
   "source": [
    "**Задание 3. Выведите основную информацию о датафрейме с помощью метода `info()`.**"
   ]
  },
  {
   "cell_type": "code",
   "execution_count": 4,
   "id": "81499663",
   "metadata": {
    "deletable": false,
    "id": "2b757bca",
    "outputId": "15376089-8dad-46c9-b520-c05248d43158"
   },
   "outputs": [
    {
     "name": "stdout",
     "output_type": "stream",
     "text": [
      "<class 'pandas.core.frame.DataFrame'>\n",
      "RangeIndex: 21525 entries, 0 to 21524\n",
      "Data columns (total 12 columns):\n",
      " #   Column            Non-Null Count  Dtype  \n",
      "---  ------            --------------  -----  \n",
      " 0   children          21525 non-null  int64  \n",
      " 1   days_employed     19351 non-null  float64\n",
      " 2   dob_years         21525 non-null  int64  \n",
      " 3   education         21525 non-null  object \n",
      " 4   education_id      21525 non-null  int64  \n",
      " 5   family_status     21525 non-null  object \n",
      " 6   family_status_id  21525 non-null  int64  \n",
      " 7   gender            21525 non-null  object \n",
      " 8   income_type       21525 non-null  object \n",
      " 9   debt              21525 non-null  int64  \n",
      " 10  total_income      19351 non-null  float64\n",
      " 11  purpose           21525 non-null  object \n",
      "dtypes: float64(2), int64(5), object(5)\n",
      "memory usage: 2.0+ MB\n"
     ]
    }
   ],
   "source": [
    "data.info()"
   ]
  },
  {
   "cell_type": "markdown",
   "id": "1ccf3ed3",
   "metadata": {
    "deletable": false,
    "editable": false,
    "id": "333ec665"
   },
   "source": [
    "## Предобработка данных"
   ]
  },
  {
   "cell_type": "markdown",
   "id": "d1b966ba",
   "metadata": {
    "deletable": false,
    "editable": false,
    "id": "02d92d53"
   },
   "source": [
    "### Удаление пропусков"
   ]
  },
  {
   "cell_type": "markdown",
   "id": "49077ac2",
   "metadata": {
    "deletable": false,
    "editable": false,
    "id": "cd84967c"
   },
   "source": [
    "**Задание 4. Выведите количество пропущенных значений для каждого столбца. Используйте комбинацию двух методов.**"
   ]
  },
  {
   "cell_type": "code",
   "execution_count": 5,
   "id": "f281fac9",
   "metadata": {
    "deletable": false,
    "id": "7f9b2309",
    "outputId": "81f4d817-781c-465c-ed15-91ce4446810d"
   },
   "outputs": [
    {
     "data": {
      "text/plain": [
       "children               0\n",
       "days_employed       2174\n",
       "dob_years              0\n",
       "education              0\n",
       "education_id           0\n",
       "family_status          0\n",
       "family_status_id       0\n",
       "gender                 0\n",
       "income_type            0\n",
       "debt                   0\n",
       "total_income        2174\n",
       "purpose                0\n",
       "dtype: int64"
      ]
     },
     "execution_count": 5,
     "metadata": {},
     "output_type": "execute_result"
    }
   ],
   "source": [
    "data.isna().sum()"
   ]
  },
  {
   "cell_type": "markdown",
   "id": "3b0a7f0b",
   "metadata": {
    "deletable": false,
    "editable": false,
    "id": "db86e27b"
   },
   "source": [
    "**Задание 5. В двух столбцах есть пропущенные значения. Один из них — `days_employed`. Пропуски в этом столбце вы обработаете на следующем этапе. Другой столбец с пропущенными значениями — `total_income` — хранит данные о доходах. На сумму дохода сильнее всего влияет тип занятости, поэтому заполнить пропуски в этом столбце нужно медианным значением по каждому типу из столбца `income_type`. Например, у человека с типом занятости `сотрудник` пропуск в столбце `total_income` должен быть заполнен медианным доходом среди всех записей с тем же типом.**"
   ]
  },
  {
   "cell_type": "code",
   "execution_count": 6,
   "id": "7ed87e1d",
   "metadata": {
    "deletable": false,
    "id": "42006a93"
   },
   "outputs": [],
   "source": [
    "for t in data['income_type'].unique():\n",
    "    data.loc[(data['income_type'] == t) & (data['total_income'].isna()), 'total_income'] = \\\n",
    "    data.loc[(data['income_type'] == t), 'total_income'].median()"
   ]
  },
  {
   "cell_type": "markdown",
   "id": "4f2b8780",
   "metadata": {
    "deletable": false,
    "editable": false,
    "id": "89da5ece"
   },
   "source": [
    "### Обработка аномальных значений"
   ]
  },
  {
   "cell_type": "markdown",
   "id": "ef0e4387",
   "metadata": {
    "deletable": false,
    "editable": false,
    "id": "57964554"
   },
   "source": [
    "**Задание 6. В данных могут встречаться артефакты (аномалии) — значения, которые не отражают действительность и появились по какой-то ошибке. таким артефактом будет отрицательное количество дней трудового стажа в столбце `days_employed`. Для реальных данных это нормально. Обработайте значения в этом столбце: замените все отрицательные значения положительными с помощью метода `abs()`.**"
   ]
  },
  {
   "cell_type": "code",
   "execution_count": 7,
   "id": "60052655",
   "metadata": {
    "deletable": false,
    "id": "f6f055bf"
   },
   "outputs": [],
   "source": [
    "data['days_employed'] = data['days_employed'].abs()"
   ]
  },
  {
   "cell_type": "markdown",
   "id": "8ea7fdb2",
   "metadata": {
    "deletable": false,
    "editable": false,
    "id": "6107dd2f"
   },
   "source": [
    "**Задание 7. Для каждого типа занятости выведите медианное значение трудового стажа `days_employed` в днях.**"
   ]
  },
  {
   "cell_type": "code",
   "execution_count": 8,
   "id": "21ef14c5",
   "metadata": {
    "deletable": false,
    "id": "85a5faf6",
    "outputId": "801ef80e-522b-4668-f34e-565af7432bcf"
   },
   "outputs": [
    {
     "data": {
      "text/plain": [
       "income_type\n",
       "безработный        366413.652744\n",
       "в декрете            3296.759962\n",
       "госслужащий          2689.368353\n",
       "компаньон            1547.382223\n",
       "пенсионер          365213.306266\n",
       "предприниматель       520.848083\n",
       "сотрудник            1574.202821\n",
       "студент               578.751554\n",
       "Name: days_employed, dtype: float64"
      ]
     },
     "execution_count": 8,
     "metadata": {},
     "output_type": "execute_result"
    }
   ],
   "source": [
    "data.groupby('income_type')['days_employed'].agg('median')"
   ]
  },
  {
   "cell_type": "markdown",
   "id": "a9c25238",
   "metadata": {
    "deletable": false,
    "editable": false,
    "id": "38d1a030"
   },
   "source": [
    "У двух типов (безработные и пенсионеры) получатся аномально большие значения. Исправить такие значения сложно, поэтому оставьте их как есть. Тем более этот столбец не понадобится вам для исследования."
   ]
  },
  {
   "cell_type": "markdown",
   "id": "d637bc36",
   "metadata": {
    "deletable": false,
    "editable": false,
    "id": "d8a9f147"
   },
   "source": [
    "**Задание 8. Выведите перечень уникальных значений столбца `children`.**"
   ]
  },
  {
   "cell_type": "code",
   "execution_count": 9,
   "id": "f9b3b7db",
   "metadata": {
    "deletable": false,
    "id": "ef5056eb",
    "outputId": "6975b15c-7f95-4697-d16d-a0c79b657b03"
   },
   "outputs": [
    {
     "data": {
      "text/plain": [
       "array([ 1,  0,  3,  2, -1,  4, 20,  5])"
      ]
     },
     "execution_count": 9,
     "metadata": {},
     "output_type": "execute_result"
    }
   ],
   "source": [
    "data['children'].unique()"
   ]
  },
  {
   "cell_type": "markdown",
   "id": "1592a0ec",
   "metadata": {
    "deletable": false,
    "editable": false,
    "id": "40b9ebf2"
   },
   "source": [
    "**Задание 9. В столбце `children` есть два аномальных значения. Удалите строки, в которых встречаются такие аномальные значения из датафрейма `data`.**"
   ]
  },
  {
   "cell_type": "code",
   "execution_count": 10,
   "id": "bb58df2a",
   "metadata": {
    "deletable": false,
    "id": "3ff9801d"
   },
   "outputs": [],
   "source": [
    "data = data[(data['children'] != -1) & (data['children'] != 20)]"
   ]
  },
  {
   "cell_type": "markdown",
   "id": "eef6fc5e",
   "metadata": {
    "deletable": false,
    "editable": false,
    "id": "bbc4d0ce"
   },
   "source": [
    "**Задание 10. Ещё раз выведите перечень уникальных значений столбца `children`, чтобы убедиться, что артефакты удалены.**"
   ]
  },
  {
   "cell_type": "code",
   "execution_count": 11,
   "id": "23ea493b",
   "metadata": {
    "deletable": false,
    "id": "ad4fa8b7",
    "outputId": "b2097101-d49d-44d9-901b-32a65c9463d1"
   },
   "outputs": [
    {
     "data": {
      "text/plain": [
       "array([1, 0, 3, 2, 4, 5])"
      ]
     },
     "execution_count": 11,
     "metadata": {},
     "output_type": "execute_result"
    }
   ],
   "source": [
    "data['children'].unique()"
   ]
  },
  {
   "cell_type": "markdown",
   "id": "82fa60e8",
   "metadata": {
    "deletable": false,
    "editable": false,
    "id": "75440b63"
   },
   "source": [
    "### Удаление пропусков (продолжение)"
   ]
  },
  {
   "cell_type": "markdown",
   "id": "f015b408",
   "metadata": {
    "deletable": false,
    "editable": false,
    "id": "f4ea573f"
   },
   "source": [
    "**Задание 11. Заполните пропуски в столбце `days_employed` медианными значениями по каждого типа занятости `income_type`.**"
   ]
  },
  {
   "cell_type": "code",
   "execution_count": 12,
   "id": "38a0c0b1",
   "metadata": {
    "deletable": false,
    "id": "af6b1a7e"
   },
   "outputs": [],
   "source": [
    "for t in data['income_type'].unique():\n",
    "    data.loc[(data['income_type'] == t) & (data['days_employed'].isna()), 'days_employed'] = \\\n",
    "    data.loc[(data['income_type'] == t), 'days_employed'].median()"
   ]
  },
  {
   "cell_type": "markdown",
   "id": "98ff86a7",
   "metadata": {
    "deletable": false,
    "editable": false,
    "id": "2753f40d"
   },
   "source": [
    "**Задание 12. Убедитесь, что все пропуски заполнены. Проверьте себя и ещё раз выведите количество пропущенных значений для каждого столбца с помощью двух методов.**"
   ]
  },
  {
   "cell_type": "code",
   "execution_count": 13,
   "id": "aeada8c4",
   "metadata": {
    "deletable": false,
    "id": "55f78bc2",
    "outputId": "8da1e4e1-358e-4e87-98c9-f261bce0a7b2"
   },
   "outputs": [
    {
     "data": {
      "text/plain": [
       "children            0\n",
       "days_employed       0\n",
       "dob_years           0\n",
       "education           0\n",
       "education_id        0\n",
       "family_status       0\n",
       "family_status_id    0\n",
       "gender              0\n",
       "income_type         0\n",
       "debt                0\n",
       "total_income        0\n",
       "purpose             0\n",
       "dtype: int64"
      ]
     },
     "execution_count": 13,
     "metadata": {},
     "output_type": "execute_result"
    }
   ],
   "source": [
    "data.isna().sum()"
   ]
  },
  {
   "cell_type": "markdown",
   "id": "5204ddac",
   "metadata": {
    "deletable": false,
    "editable": false,
    "id": "ddc81e43"
   },
   "source": [
    "### Изменение типов данных"
   ]
  },
  {
   "cell_type": "markdown",
   "id": "08c0b2d6",
   "metadata": {
    "deletable": false,
    "editable": false,
    "id": "42d19d24"
   },
   "source": [
    "**Задание 13. Замените вещественный тип данных в столбце `total_income` на целочисленный с помощью метода `astype()`.**"
   ]
  },
  {
   "cell_type": "code",
   "execution_count": 14,
   "id": "16c6e0ad",
   "metadata": {
    "deletable": false,
    "id": "920b65ad"
   },
   "outputs": [],
   "source": [
    "data['total_income'] = data['total_income'].astype(int)"
   ]
  },
  {
   "cell_type": "markdown",
   "id": "566572b1",
   "metadata": {
    "deletable": false,
    "editable": false,
    "id": "80c420ba"
   },
   "source": [
    "### Обработка дубликатов"
   ]
  },
  {
   "cell_type": "markdown",
   "id": "c1144920",
   "metadata": {
    "deletable": false,
    "editable": false
   },
   "source": [
    "**Задание 14. Обработайте неявные дубликаты в столбце `education`. В этом столбце есть одни и те же значения, но записанные по-разному: с использованием заглавных и строчных букв. Приведите их к нижнему регистру. Проверьте остальные столбцы.**"
   ]
  },
  {
   "cell_type": "code",
   "execution_count": 15,
   "id": "29f5f4f0",
   "metadata": {
    "deletable": false
   },
   "outputs": [],
   "source": [
    "data['education'] = data['education'].str.lower()"
   ]
  },
  {
   "cell_type": "markdown",
   "id": "a77c23f8",
   "metadata": {
    "deletable": false,
    "editable": false,
    "id": "dc587695"
   },
   "source": [
    "**Задание 15. Выведите на экран количество строк-дубликатов в данных. Если такие строки присутствуют, удалите их.**"
   ]
  },
  {
   "cell_type": "code",
   "execution_count": 31,
   "id": "00ac6b4a",
   "metadata": {
    "deletable": false,
    "id": "3ee445e4",
    "outputId": "9684deba-1934-42d1-99e1-cda61740f822"
   },
   "outputs": [
    {
     "data": {
      "text/plain": [
       "0"
      ]
     },
     "execution_count": 31,
     "metadata": {},
     "output_type": "execute_result"
    }
   ],
   "source": [
    "data.duplicated().sum()"
   ]
  },
  {
   "cell_type": "code",
   "execution_count": 34,
   "id": "42f3fdb8",
   "metadata": {
    "deletable": false,
    "id": "8575fe05"
   },
   "outputs": [
    {
     "name": "stdout",
     "output_type": "stream",
     "text": [
      "       children  days_employed  dob_years education  education_id  \\\n",
      "0             1    8437.673028         42    высшее             0   \n",
      "1             1    4024.803754         36   среднее             1   \n",
      "2             0    5623.422610         33   среднее             1   \n",
      "3             3    4124.747207         32   среднее             1   \n",
      "4             0  340266.072047         53   среднее             1   \n",
      "...         ...            ...        ...       ...           ...   \n",
      "21520         1    4529.316663         43   среднее             1   \n",
      "21521         0  343937.404131         67   среднее             1   \n",
      "21522         1    2113.346888         38   среднее             1   \n",
      "21523         3    3112.481705         38   среднее             1   \n",
      "21524         2    1984.507589         40   среднее             1   \n",
      "\n",
      "          family_status  family_status_id gender income_type  debt  \\\n",
      "0       женат / замужем                 0      F   сотрудник     0   \n",
      "1       женат / замужем                 0      F   сотрудник     0   \n",
      "2       женат / замужем                 0      M   сотрудник     0   \n",
      "3       женат / замужем                 0      M   сотрудник     0   \n",
      "4      гражданский брак                 1      F   пенсионер     0   \n",
      "...                 ...               ...    ...         ...   ...   \n",
      "21520  гражданский брак                 1      F   компаньон     0   \n",
      "21521   женат / замужем                 0      F   пенсионер     0   \n",
      "21522  гражданский брак                 1      M   сотрудник     1   \n",
      "21523   женат / замужем                 0      M   сотрудник     1   \n",
      "21524   женат / замужем                 0      F   сотрудник     0   \n",
      "\n",
      "       total_income                       purpose total_income_category  \\\n",
      "0            253875                 покупка жилья                     B   \n",
      "1            112080       приобретение автомобиля                     C   \n",
      "2            145885                 покупка жилья                     C   \n",
      "3            267628    дополнительное образование                     B   \n",
      "4            158616               сыграть свадьбу                     C   \n",
      "...             ...                           ...                   ...   \n",
      "21520        224791             операции с жильем                     B   \n",
      "21521        155999          сделка с автомобилем                     C   \n",
      "21522         89672                  недвижимость                     C   \n",
      "21523        244093  на покупку своего автомобиля                     B   \n",
      "21524         82047         на покупку автомобиля                     C   \n",
      "\n",
      "               purpose_category  \n",
      "0      операции с недвижимостью  \n",
      "1        операции с автомобилем  \n",
      "2      операции с недвижимостью  \n",
      "3         получение образования  \n",
      "4            проведение свадьбы  \n",
      "...                         ...  \n",
      "21520  операции с недвижимостью  \n",
      "21521    операции с автомобилем  \n",
      "21522  операции с недвижимостью  \n",
      "21523    операции с автомобилем  \n",
      "21524    операции с автомобилем  \n",
      "\n",
      "[21331 rows x 14 columns]\n"
     ]
    }
   ],
   "source": [
    "data = data.drop_duplicates()\n"
   ]
  },
  {
   "cell_type": "markdown",
   "id": "11282f73",
   "metadata": {
    "deletable": false,
    "editable": false,
    "id": "9904cf55"
   },
   "source": [
    "### Категоризация данных"
   ]
  },
  {
   "cell_type": "markdown",
   "id": "491b5241",
   "metadata": {
    "deletable": false,
    "editable": false,
    "id": "72fcc8a2"
   },
   "source": [
    "**Задание 16. На основании диапазонов, указанных ниже, создайте в датафрейме `data` столбец `total_income_category` с категориями:**\n",
    "\n",
    "- 0–30000 — `'E'`;\n",
    "- 30001–50000 — `'D'`;\n",
    "- 50001–200000 — `'C'`;\n",
    "- 200001–1000000 — `'B'`;\n",
    "- 1000001 и выше — `'A'`.\n",
    "\n",
    "\n",
    "**Например, кредитополучателю с доходом 25000 нужно назначить категорию `'E'`, а клиенту, получающему 235000, — `'B'`. Используйте собственную функцию с именем `categorize_income()` и метод `apply()`.**"
   ]
  },
  {
   "cell_type": "code",
   "execution_count": 18,
   "id": "3c1d2643",
   "metadata": {
    "deletable": false,
    "id": "e1771346"
   },
   "outputs": [],
   "source": [
    "def categorize_income(income):\n",
    "    try:\n",
    "        if 0 <= income <= 30000:\n",
    "            return 'E'\n",
    "        elif 30001 <= income <= 50000:\n",
    "            return 'D'\n",
    "        elif 50001 <= income <= 200000:\n",
    "            return 'C'\n",
    "        elif 200001 <= income <= 1000000:\n",
    "            return 'B'\n",
    "        elif income >= 1000001:\n",
    "            return 'A'\n",
    "    except:\n",
    "        pass"
   ]
  },
  {
   "cell_type": "code",
   "execution_count": 19,
   "id": "4fb45d43",
   "metadata": {
    "deletable": false,
    "id": "d5f3586d"
   },
   "outputs": [],
   "source": [
    "data['total_income_category'] = data['total_income'].apply(categorize_income)"
   ]
  },
  {
   "cell_type": "markdown",
   "id": "0e278287",
   "metadata": {
    "deletable": false,
    "editable": false,
    "id": "dde49b5c"
   },
   "source": [
    "**Задание 17. Выведите на экран перечень уникальных целей взятия кредита из столбца `purpose`.**"
   ]
  },
  {
   "cell_type": "code",
   "execution_count": 20,
   "id": "324d38d6",
   "metadata": {
    "deletable": false,
    "id": "f67ce9b3",
    "outputId": "673c12d9-7d7e-4ae0-9812-c622c89dd244"
   },
   "outputs": [
    {
     "data": {
      "text/plain": [
       "array(['покупка жилья', 'приобретение автомобиля',\n",
       "       'дополнительное образование', 'сыграть свадьбу',\n",
       "       'операции с жильем', 'образование', 'на проведение свадьбы',\n",
       "       'покупка жилья для семьи', 'покупка недвижимости',\n",
       "       'покупка коммерческой недвижимости', 'покупка жилой недвижимости',\n",
       "       'строительство собственной недвижимости', 'недвижимость',\n",
       "       'строительство недвижимости', 'на покупку подержанного автомобиля',\n",
       "       'на покупку своего автомобиля',\n",
       "       'операции с коммерческой недвижимостью',\n",
       "       'строительство жилой недвижимости', 'жилье',\n",
       "       'операции со своей недвижимостью', 'автомобили',\n",
       "       'заняться образованием', 'сделка с подержанным автомобилем',\n",
       "       'получение образования', 'автомобиль', 'свадьба',\n",
       "       'получение дополнительного образования', 'покупка своего жилья',\n",
       "       'операции с недвижимостью', 'получение высшего образования',\n",
       "       'свой автомобиль', 'сделка с автомобилем',\n",
       "       'профильное образование', 'высшее образование',\n",
       "       'покупка жилья для сдачи', 'на покупку автомобиля', 'ремонт жилью',\n",
       "       'заняться высшим образованием'], dtype=object)"
      ]
     },
     "execution_count": 20,
     "metadata": {},
     "output_type": "execute_result"
    }
   ],
   "source": [
    "data['purpose'].unique()"
   ]
  },
  {
   "cell_type": "markdown",
   "id": "201d9c9f",
   "metadata": {
    "deletable": false,
    "editable": false,
    "id": "85d0aef0"
   },
   "source": [
    "**Задание 18. Создайте функцию, которая на основании данных из столбца `purpose` сформирует новый столбец `purpose_category`, в который войдут следующие категории:**\n",
    "\n",
    "- `'операции с автомобилем'`,\n",
    "- `'операции с недвижимостью'`,\n",
    "- `'проведение свадьбы'`,\n",
    "- `'получение образования'`.\n",
    "\n",
    "**Например, если в столбце `purpose` находится подстрока `'на покупку автомобиля'`, то в столбце `purpose_category` должна появиться строка `'операции с автомобилем'`.**\n",
    "\n",
    "**Используйте собственную функцию с именем `categorize_purpose()` и метод `apply()`. Изучите данные в столбце `purpose` и определите, какие подстроки помогут вам правильно определить категорию.**"
   ]
  },
  {
   "cell_type": "code",
   "execution_count": 21,
   "id": "0fdf2696",
   "metadata": {
    "deletable": false,
    "id": "e149fab4"
   },
   "outputs": [],
   "source": [
    "def categorize_purpose(row):\n",
    "    try:\n",
    "        if 'автом' in row:\n",
    "            return 'операции с автомобилем'\n",
    "        elif 'жил' in row or 'недвиж' in row:\n",
    "            return 'операции с недвижимостью'\n",
    "        elif 'свад' in row:\n",
    "            return 'проведение свадьбы'\n",
    "        elif 'образов' in row:\n",
    "            return 'получение образования'\n",
    "    except:\n",
    "        return 'нет категории'"
   ]
  },
  {
   "cell_type": "code",
   "execution_count": 22,
   "id": "2d872ae6",
   "metadata": {
    "deletable": false,
    "id": "bf36e69b"
   },
   "outputs": [
    {
     "data": {
      "text/html": [
       "<div>\n",
       "<style scoped>\n",
       "    .dataframe tbody tr th:only-of-type {\n",
       "        vertical-align: middle;\n",
       "    }\n",
       "\n",
       "    .dataframe tbody tr th {\n",
       "        vertical-align: top;\n",
       "    }\n",
       "\n",
       "    .dataframe thead th {\n",
       "        text-align: right;\n",
       "    }\n",
       "</style>\n",
       "<table border=\"1\" class=\"dataframe\">\n",
       "  <thead>\n",
       "    <tr style=\"text-align: right;\">\n",
       "      <th></th>\n",
       "      <th>children</th>\n",
       "      <th>days_employed</th>\n",
       "      <th>dob_years</th>\n",
       "      <th>education</th>\n",
       "      <th>education_id</th>\n",
       "      <th>family_status</th>\n",
       "      <th>family_status_id</th>\n",
       "      <th>gender</th>\n",
       "      <th>income_type</th>\n",
       "      <th>debt</th>\n",
       "      <th>total_income</th>\n",
       "      <th>purpose</th>\n",
       "      <th>total_income_category</th>\n",
       "      <th>purpose_category</th>\n",
       "    </tr>\n",
       "  </thead>\n",
       "  <tbody>\n",
       "    <tr>\n",
       "      <th>18703</th>\n",
       "      <td>0</td>\n",
       "      <td>1181.985939</td>\n",
       "      <td>33</td>\n",
       "      <td>начальное</td>\n",
       "      <td>3</td>\n",
       "      <td>женат / замужем</td>\n",
       "      <td>0</td>\n",
       "      <td>F</td>\n",
       "      <td>компаньон</td>\n",
       "      <td>1</td>\n",
       "      <td>78892</td>\n",
       "      <td>операции со своей недвижимостью</td>\n",
       "      <td>C</td>\n",
       "      <td>операции с недвижимостью</td>\n",
       "    </tr>\n",
       "    <tr>\n",
       "      <th>14774</th>\n",
       "      <td>0</td>\n",
       "      <td>1149.701833</td>\n",
       "      <td>54</td>\n",
       "      <td>среднее</td>\n",
       "      <td>1</td>\n",
       "      <td>женат / замужем</td>\n",
       "      <td>0</td>\n",
       "      <td>F</td>\n",
       "      <td>сотрудник</td>\n",
       "      <td>1</td>\n",
       "      <td>69310</td>\n",
       "      <td>операции с жильем</td>\n",
       "      <td>C</td>\n",
       "      <td>операции с недвижимостью</td>\n",
       "    </tr>\n",
       "    <tr>\n",
       "      <th>9515</th>\n",
       "      <td>0</td>\n",
       "      <td>354932.869424</td>\n",
       "      <td>67</td>\n",
       "      <td>высшее</td>\n",
       "      <td>0</td>\n",
       "      <td>женат / замужем</td>\n",
       "      <td>0</td>\n",
       "      <td>F</td>\n",
       "      <td>пенсионер</td>\n",
       "      <td>1</td>\n",
       "      <td>196337</td>\n",
       "      <td>заняться высшим образованием</td>\n",
       "      <td>C</td>\n",
       "      <td>получение образования</td>\n",
       "    </tr>\n",
       "    <tr>\n",
       "      <th>17167</th>\n",
       "      <td>1</td>\n",
       "      <td>368.115155</td>\n",
       "      <td>38</td>\n",
       "      <td>среднее</td>\n",
       "      <td>1</td>\n",
       "      <td>Не женат / не замужем</td>\n",
       "      <td>4</td>\n",
       "      <td>M</td>\n",
       "      <td>сотрудник</td>\n",
       "      <td>1</td>\n",
       "      <td>186546</td>\n",
       "      <td>операции с недвижимостью</td>\n",
       "      <td>C</td>\n",
       "      <td>операции с недвижимостью</td>\n",
       "    </tr>\n",
       "    <tr>\n",
       "      <th>12687</th>\n",
       "      <td>1</td>\n",
       "      <td>1557.031170</td>\n",
       "      <td>24</td>\n",
       "      <td>высшее</td>\n",
       "      <td>0</td>\n",
       "      <td>Не женат / не замужем</td>\n",
       "      <td>4</td>\n",
       "      <td>F</td>\n",
       "      <td>сотрудник</td>\n",
       "      <td>1</td>\n",
       "      <td>87681</td>\n",
       "      <td>строительство жилой недвижимости</td>\n",
       "      <td>C</td>\n",
       "      <td>операции с недвижимостью</td>\n",
       "    </tr>\n",
       "    <tr>\n",
       "      <th>...</th>\n",
       "      <td>...</td>\n",
       "      <td>...</td>\n",
       "      <td>...</td>\n",
       "      <td>...</td>\n",
       "      <td>...</td>\n",
       "      <td>...</td>\n",
       "      <td>...</td>\n",
       "      <td>...</td>\n",
       "      <td>...</td>\n",
       "      <td>...</td>\n",
       "      <td>...</td>\n",
       "      <td>...</td>\n",
       "      <td>...</td>\n",
       "      <td>...</td>\n",
       "    </tr>\n",
       "    <tr>\n",
       "      <th>7412</th>\n",
       "      <td>0</td>\n",
       "      <td>10080.031918</td>\n",
       "      <td>44</td>\n",
       "      <td>среднее</td>\n",
       "      <td>1</td>\n",
       "      <td>гражданский брак</td>\n",
       "      <td>1</td>\n",
       "      <td>F</td>\n",
       "      <td>сотрудник</td>\n",
       "      <td>0</td>\n",
       "      <td>112449</td>\n",
       "      <td>на проведение свадьбы</td>\n",
       "      <td>C</td>\n",
       "      <td>проведение свадьбы</td>\n",
       "    </tr>\n",
       "    <tr>\n",
       "      <th>7411</th>\n",
       "      <td>0</td>\n",
       "      <td>363331.435399</td>\n",
       "      <td>55</td>\n",
       "      <td>высшее</td>\n",
       "      <td>0</td>\n",
       "      <td>гражданский брак</td>\n",
       "      <td>1</td>\n",
       "      <td>F</td>\n",
       "      <td>пенсионер</td>\n",
       "      <td>0</td>\n",
       "      <td>73139</td>\n",
       "      <td>на проведение свадьбы</td>\n",
       "      <td>C</td>\n",
       "      <td>проведение свадьбы</td>\n",
       "    </tr>\n",
       "    <tr>\n",
       "      <th>7410</th>\n",
       "      <td>1</td>\n",
       "      <td>417.149043</td>\n",
       "      <td>30</td>\n",
       "      <td>высшее</td>\n",
       "      <td>0</td>\n",
       "      <td>гражданский брак</td>\n",
       "      <td>1</td>\n",
       "      <td>F</td>\n",
       "      <td>сотрудник</td>\n",
       "      <td>0</td>\n",
       "      <td>214514</td>\n",
       "      <td>жилье</td>\n",
       "      <td>B</td>\n",
       "      <td>операции с недвижимостью</td>\n",
       "    </tr>\n",
       "    <tr>\n",
       "      <th>7409</th>\n",
       "      <td>0</td>\n",
       "      <td>10071.500123</td>\n",
       "      <td>58</td>\n",
       "      <td>начальное</td>\n",
       "      <td>3</td>\n",
       "      <td>женат / замужем</td>\n",
       "      <td>0</td>\n",
       "      <td>M</td>\n",
       "      <td>госслужащий</td>\n",
       "      <td>0</td>\n",
       "      <td>53099</td>\n",
       "      <td>заняться высшим образованием</td>\n",
       "      <td>C</td>\n",
       "      <td>получение образования</td>\n",
       "    </tr>\n",
       "    <tr>\n",
       "      <th>21524</th>\n",
       "      <td>2</td>\n",
       "      <td>1984.507589</td>\n",
       "      <td>40</td>\n",
       "      <td>среднее</td>\n",
       "      <td>1</td>\n",
       "      <td>женат / замужем</td>\n",
       "      <td>0</td>\n",
       "      <td>F</td>\n",
       "      <td>сотрудник</td>\n",
       "      <td>0</td>\n",
       "      <td>82047</td>\n",
       "      <td>на покупку автомобиля</td>\n",
       "      <td>C</td>\n",
       "      <td>операции с автомобилем</td>\n",
       "    </tr>\n",
       "  </tbody>\n",
       "</table>\n",
       "<p>21331 rows × 14 columns</p>\n",
       "</div>"
      ],
      "text/plain": [
       "       children  days_employed  dob_years  education  education_id  \\\n",
       "18703         0    1181.985939         33  начальное             3   \n",
       "14774         0    1149.701833         54    среднее             1   \n",
       "9515          0  354932.869424         67     высшее             0   \n",
       "17167         1     368.115155         38    среднее             1   \n",
       "12687         1    1557.031170         24     высшее             0   \n",
       "...         ...            ...        ...        ...           ...   \n",
       "7412          0   10080.031918         44    среднее             1   \n",
       "7411          0  363331.435399         55     высшее             0   \n",
       "7410          1     417.149043         30     высшее             0   \n",
       "7409          0   10071.500123         58  начальное             3   \n",
       "21524         2    1984.507589         40    среднее             1   \n",
       "\n",
       "               family_status  family_status_id gender  income_type  debt  \\\n",
       "18703        женат / замужем                 0      F    компаньон     1   \n",
       "14774        женат / замужем                 0      F    сотрудник     1   \n",
       "9515         женат / замужем                 0      F    пенсионер     1   \n",
       "17167  Не женат / не замужем                 4      M    сотрудник     1   \n",
       "12687  Не женат / не замужем                 4      F    сотрудник     1   \n",
       "...                      ...               ...    ...          ...   ...   \n",
       "7412        гражданский брак                 1      F    сотрудник     0   \n",
       "7411        гражданский брак                 1      F    пенсионер     0   \n",
       "7410        гражданский брак                 1      F    сотрудник     0   \n",
       "7409         женат / замужем                 0      M  госслужащий     0   \n",
       "21524        женат / замужем                 0      F    сотрудник     0   \n",
       "\n",
       "       total_income                           purpose total_income_category  \\\n",
       "18703         78892   операции со своей недвижимостью                     C   \n",
       "14774         69310                 операции с жильем                     C   \n",
       "9515         196337      заняться высшим образованием                     C   \n",
       "17167        186546          операции с недвижимостью                     C   \n",
       "12687         87681  строительство жилой недвижимости                     C   \n",
       "...             ...                               ...                   ...   \n",
       "7412         112449             на проведение свадьбы                     C   \n",
       "7411          73139             на проведение свадьбы                     C   \n",
       "7410         214514                             жилье                     B   \n",
       "7409          53099      заняться высшим образованием                     C   \n",
       "21524         82047             на покупку автомобиля                     C   \n",
       "\n",
       "               purpose_category  \n",
       "18703  операции с недвижимостью  \n",
       "14774  операции с недвижимостью  \n",
       "9515      получение образования  \n",
       "17167  операции с недвижимостью  \n",
       "12687  операции с недвижимостью  \n",
       "...                         ...  \n",
       "7412         проведение свадьбы  \n",
       "7411         проведение свадьбы  \n",
       "7410   операции с недвижимостью  \n",
       "7409      получение образования  \n",
       "21524    операции с автомобилем  \n",
       "\n",
       "[21331 rows x 14 columns]"
      ]
     },
     "execution_count": 22,
     "metadata": {},
     "output_type": "execute_result"
    }
   ],
   "source": [
    "data['purpose_category'] = data['purpose'].apply(categorize_purpose)\n",
    "\n",
    "data.sort_values(by='debt', ascending = False)"
   ]
  },
  {
   "cell_type": "markdown",
   "id": "7ace5bbd",
   "metadata": {
    "deletable": false,
    "editable": false,
    "id": "09b242bf"
   },
   "source": [
    "### Шаг 3. Исследуйте данные и ответьте на вопросы"
   ]
  },
  {
   "cell_type": "markdown",
   "id": "f6748384",
   "metadata": {
    "deletable": false,
    "editable": false,
    "id": "c5d66278"
   },
   "source": [
    "#### 3.1 Есть ли зависимость между количеством детей и возвратом кредита в срок?"
   ]
  },
  {
   "cell_type": "code",
   "execution_count": 23,
   "id": "dc50c987",
   "metadata": {
    "deletable": false,
    "id": "2cacfc4a"
   },
   "outputs": [
    {
     "data": {
      "text/plain": [
       "<AxesSubplot:xlabel='children', ylabel='mean'>"
      ]
     },
     "execution_count": 23,
     "metadata": {},
     "output_type": "execute_result"
    },
    {
     "data": {
      "image/png": "[encoded data removed]",
      "text/plain": [
       "<Figure size 576x576 with 1 Axes>"
      ]
     },
     "metadata": {},
     "output_type": "display_data"
    }
   ],
   "source": [
    "import matplotlib.pyplot as plt\n",
    "import seaborn as sns\n",
    "sns.set()\n",
    "data_1 = data.groupby('children')['debt'].agg(['mean']).reset_index()# Ваш код будет здесь. Вы можете создавать новые ячейки.\n",
    "plt.figure(figsize = (8, 8))\n",
    "plt.xticks(rotation=45)\n",
    "sns.barplot(data = data_1, x = 'children', y= 'mean')\n"
   ]
  },
  {
   "cell_type": "code",
   "execution_count": 24,
   "id": "f775dead",
   "metadata": {},
   "outputs": [
    {
     "data": {
      "text/html": [
       "<div>\n",
       "<style scoped>\n",
       "    .dataframe tbody tr th:only-of-type {\n",
       "        vertical-align: middle;\n",
       "    }\n",
       "\n",
       "    .dataframe tbody tr th {\n",
       "        vertical-align: top;\n",
       "    }\n",
       "\n",
       "    .dataframe thead th {\n",
       "        text-align: right;\n",
       "    }\n",
       "</style>\n",
       "<table border=\"1\" class=\"dataframe\">\n",
       "  <thead>\n",
       "    <tr style=\"text-align: right;\">\n",
       "      <th></th>\n",
       "      <th>children</th>\n",
       "      <th>mean</th>\n",
       "    </tr>\n",
       "  </thead>\n",
       "  <tbody>\n",
       "    <tr>\n",
       "      <th>0</th>\n",
       "      <td>0</td>\n",
       "      <td>0.075438</td>\n",
       "    </tr>\n",
       "    <tr>\n",
       "      <th>1</th>\n",
       "      <td>1</td>\n",
       "      <td>0.092346</td>\n",
       "    </tr>\n",
       "    <tr>\n",
       "      <th>2</th>\n",
       "      <td>2</td>\n",
       "      <td>0.094542</td>\n",
       "    </tr>\n",
       "    <tr>\n",
       "      <th>3</th>\n",
       "      <td>3</td>\n",
       "      <td>0.081818</td>\n",
       "    </tr>\n",
       "    <tr>\n",
       "      <th>4</th>\n",
       "      <td>4</td>\n",
       "      <td>0.097561</td>\n",
       "    </tr>\n",
       "    <tr>\n",
       "      <th>5</th>\n",
       "      <td>5</td>\n",
       "      <td>0.000000</td>\n",
       "    </tr>\n",
       "  </tbody>\n",
       "</table>\n",
       "</div>"
      ],
      "text/plain": [
       "   children      mean\n",
       "0         0  0.075438\n",
       "1         1  0.092346\n",
       "2         2  0.094542\n",
       "3         3  0.081818\n",
       "4         4  0.097561\n",
       "5         5  0.000000"
      ]
     },
     "execution_count": 24,
     "metadata": {},
     "output_type": "execute_result"
    }
   ],
   "source": [
    "data_1"
   ]
  },
  {
   "cell_type": "markdown",
   "id": "d25e1c78",
   "metadata": {
    "deletable": false,
    "id": "3a6b99ec"
   },
   "source": [
    "**Вывод:** \n",
    "Клиенты у которых нету детей вероятность возврата кредита в срок больше всего, этому соответствует средняя величина задолжностей. Людей с 1, 2 и 4 детьми ленейно увеличивается(хоть и людей и с 4 людьми не много) все же есть зависимость. Людей с 3 детьми это не касается и их так же не много, нужно выдвинуть гипотезу и также проверить и выстроить зависимость от других параметров. Людей с 5 детьми всего лишь 9 человек и можно не брать в расчет т.к. их слишком мало. Самое главное хотелось бы сказать: Хоть разница в этих значениях небольшая, возможно, разница между 7,5% и 9,7% не ощущается как большая.  В реальности же у банка значительно больше заемщиков, и даже вроде бы незначительное улучшение скоринговой системы дает хороший прирост доходов. В финансовой сфере часто даже долли процентов означают миллионную прибыль или убыток для банка."
   ]
  },
  {
   "cell_type": "markdown",
   "id": "219c87a6",
   "metadata": {
    "deletable": false,
    "editable": false,
    "id": "97be82ca"
   },
   "source": [
    "#### 3.2 Есть ли зависимость между семейным положением и возвратом кредита в срок?"
   ]
  },
  {
   "cell_type": "code",
   "execution_count": 25,
   "id": "cc9ede89",
   "metadata": {
    "deletable": false,
    "id": "dc3f7ee8"
   },
   "outputs": [
    {
     "data": {
      "text/html": [
       "<div>\n",
       "<style scoped>\n",
       "    .dataframe tbody tr th:only-of-type {\n",
       "        vertical-align: middle;\n",
       "    }\n",
       "\n",
       "    .dataframe tbody tr th {\n",
       "        vertical-align: top;\n",
       "    }\n",
       "\n",
       "    .dataframe thead th {\n",
       "        text-align: right;\n",
       "    }\n",
       "</style>\n",
       "<table border=\"1\" class=\"dataframe\">\n",
       "  <thead>\n",
       "    <tr style=\"text-align: right;\">\n",
       "      <th></th>\n",
       "      <th>family_status</th>\n",
       "      <th>mean</th>\n",
       "      <th>count</th>\n",
       "    </tr>\n",
       "  </thead>\n",
       "  <tbody>\n",
       "    <tr>\n",
       "      <th>0</th>\n",
       "      <td>Не женат / не замужем</td>\n",
       "      <td>0.097639</td>\n",
       "      <td>2796</td>\n",
       "    </tr>\n",
       "    <tr>\n",
       "      <th>1</th>\n",
       "      <td>в разводе</td>\n",
       "      <td>0.070648</td>\n",
       "      <td>1189</td>\n",
       "    </tr>\n",
       "    <tr>\n",
       "      <th>2</th>\n",
       "      <td>вдовец / вдова</td>\n",
       "      <td>0.066246</td>\n",
       "      <td>951</td>\n",
       "    </tr>\n",
       "    <tr>\n",
       "      <th>3</th>\n",
       "      <td>гражданский брак</td>\n",
       "      <td>0.093130</td>\n",
       "      <td>4134</td>\n",
       "    </tr>\n",
       "    <tr>\n",
       "      <th>4</th>\n",
       "      <td>женат / замужем</td>\n",
       "      <td>0.075606</td>\n",
       "      <td>12261</td>\n",
       "    </tr>\n",
       "  </tbody>\n",
       "</table>\n",
       "</div>"
      ],
      "text/plain": [
       "           family_status      mean  count\n",
       "0  Не женат / не замужем  0.097639   2796\n",
       "1              в разводе  0.070648   1189\n",
       "2         вдовец / вдова  0.066246    951\n",
       "3       гражданский брак  0.093130   4134\n",
       "4        женат / замужем  0.075606  12261"
      ]
     },
     "execution_count": 25,
     "metadata": {},
     "output_type": "execute_result"
    }
   ],
   "source": [
    "data_2 = data.groupby('family_status')['debt'].agg(['mean','count']).reset_index()# Ваш код будет здесь. Вы можете создавать новые ячейки.\n",
    "data_2"
   ]
  },
  {
   "cell_type": "code",
   "execution_count": 26,
   "id": "785f3073",
   "metadata": {},
   "outputs": [
    {
     "data": {
      "text/plain": [
       "<AxesSubplot:xlabel='family_status', ylabel='mean'>"
      ]
     },
     "execution_count": 26,
     "metadata": {},
     "output_type": "execute_result"
    },
    {
     "data": {
      "image/png": "[encoded data removed]",
      "text/plain": [
       "<Figure size 576x576 with 1 Axes>"
      ]
     },
     "metadata": {},
     "output_type": "display_data"
    }
   ],
   "source": [
    "plt.figure(figsize = (8, 8))\n",
    "plt.xticks(rotation=45)\n",
    "sns.barplot(data = data_2, x = 'family_status', y = 'mean')\n"
   ]
  },
  {
   "cell_type": "markdown",
   "id": "2d27b37e",
   "metadata": {
    "deletable": false,
    "id": "1cef7837"
   },
   "source": [
    "**Вывод:** \n",
    "Считаю, что Не женатым / не замужним, сложней выплачивать кредит одному и видна разница. Женатым / замужним легче выплачивать кредит т.к. есть кредитное плечо и супруг может помочь закрыть кредит и все таки двоим легче закрыть кредит чем одному. Людям в разводе и вдовец / вдова видна зависимость, что им легче всего закрывать кредит. Мысли на этот счет, что люди этих двух категории более стабильные и уже имеют подушку безопасности, что нельзя сказать о людях с гражданским браком."
   ]
  },
  {
   "cell_type": "markdown",
   "id": "3dd79560",
   "metadata": {
    "deletable": false,
    "editable": false,
    "id": "1e8b2fca"
   },
   "source": [
    "#### 3.3 Есть ли зависимость между уровнем дохода и возвратом кредита в срок?"
   ]
  },
  {
   "cell_type": "code",
   "execution_count": 27,
   "id": "5d054557",
   "metadata": {
    "deletable": false,
    "id": "cd7e3720"
   },
   "outputs": [
    {
     "data": {
      "text/html": [
       "<div>\n",
       "<style scoped>\n",
       "    .dataframe tbody tr th:only-of-type {\n",
       "        vertical-align: middle;\n",
       "    }\n",
       "\n",
       "    .dataframe tbody tr th {\n",
       "        vertical-align: top;\n",
       "    }\n",
       "\n",
       "    .dataframe thead th {\n",
       "        text-align: right;\n",
       "    }\n",
       "</style>\n",
       "<table border=\"1\" class=\"dataframe\">\n",
       "  <thead>\n",
       "    <tr style=\"text-align: right;\">\n",
       "      <th></th>\n",
       "      <th>total_income_category</th>\n",
       "      <th>mean</th>\n",
       "      <th>count</th>\n",
       "    </tr>\n",
       "  </thead>\n",
       "  <tbody>\n",
       "    <tr>\n",
       "      <th>0</th>\n",
       "      <td>A</td>\n",
       "      <td>0.080000</td>\n",
       "      <td>25</td>\n",
       "    </tr>\n",
       "    <tr>\n",
       "      <th>1</th>\n",
       "      <td>B</td>\n",
       "      <td>0.070602</td>\n",
       "      <td>5014</td>\n",
       "    </tr>\n",
       "    <tr>\n",
       "      <th>2</th>\n",
       "      <td>C</td>\n",
       "      <td>0.084982</td>\n",
       "      <td>15921</td>\n",
       "    </tr>\n",
       "    <tr>\n",
       "      <th>3</th>\n",
       "      <td>D</td>\n",
       "      <td>0.060172</td>\n",
       "      <td>349</td>\n",
       "    </tr>\n",
       "    <tr>\n",
       "      <th>4</th>\n",
       "      <td>E</td>\n",
       "      <td>0.090909</td>\n",
       "      <td>22</td>\n",
       "    </tr>\n",
       "  </tbody>\n",
       "</table>\n",
       "</div>"
      ],
      "text/plain": [
       "  total_income_category      mean  count\n",
       "0                     A  0.080000     25\n",
       "1                     B  0.070602   5014\n",
       "2                     C  0.084982  15921\n",
       "3                     D  0.060172    349\n",
       "4                     E  0.090909     22"
      ]
     },
     "execution_count": 27,
     "metadata": {},
     "output_type": "execute_result"
    }
   ],
   "source": [
    "data_3 = data.groupby('total_income_category')['debt'].agg(['mean','count']).reset_index()# Ваш код будет здесь. Вы можете создавать новые ячейки.\n",
    "data_3"
   ]
  },
  {
   "cell_type": "code",
   "execution_count": 28,
   "id": "692927fc",
   "metadata": {},
   "outputs": [
    {
     "data": {
      "text/plain": [
       "<AxesSubplot:xlabel='total_income_category', ylabel='mean'>"
      ]
     },
     "execution_count": 28,
     "metadata": {},
     "output_type": "execute_result"
    },
    {
     "data": {
      "image/png": "[encoded data removed]",
      "text/plain": [
       "<Figure size 576x576 with 1 Axes>"
      ]
     },
     "metadata": {},
     "output_type": "display_data"
    }
   ],
   "source": [
    "plt.figure(figsize = (8, 8))\n",
    "plt.xticks(rotation=45)\n",
    "sns.barplot(data = data_3, x = 'total_income_category', y = 'mean')"
   ]
  },
  {
   "cell_type": "markdown",
   "id": "45500662",
   "metadata": {
    "deletable": false,
    "id": "e8593def"
   },
   "source": [
    "**Вывод:** \n",
    "Взяв людей из категории Е можно сказать что у них меньше всего вероятности закрывать кредит в срок связано с более низкой зарплатой но опять таки их и меньше всего. Категория Е не может себе позволить не брать кредит, их слишком мало. Самые стабильные люди из категории D(приемлемое количество людей) и В так как у них вероятность закрыть кредит больше всего."
   ]
  },
  {
   "cell_type": "markdown",
   "id": "83303f25",
   "metadata": {
    "deletable": false,
    "editable": false,
    "id": "99ecbd1f"
   },
   "source": [
    "#### 3.4 Как разные цели кредита влияют на его возврат в срок?"
   ]
  },
  {
   "cell_type": "code",
   "execution_count": 29,
   "id": "7ca40dbc",
   "metadata": {
    "deletable": false,
    "id": "2b687290"
   },
   "outputs": [
    {
     "data": {
      "text/html": [
       "<div>\n",
       "<style scoped>\n",
       "    .dataframe tbody tr th:only-of-type {\n",
       "        vertical-align: middle;\n",
       "    }\n",
       "\n",
       "    .dataframe tbody tr th {\n",
       "        vertical-align: top;\n",
       "    }\n",
       "\n",
       "    .dataframe thead th {\n",
       "        text-align: right;\n",
       "    }\n",
       "</style>\n",
       "<table border=\"1\" class=\"dataframe\">\n",
       "  <thead>\n",
       "    <tr style=\"text-align: right;\">\n",
       "      <th></th>\n",
       "      <th>purpose_category</th>\n",
       "      <th>mean</th>\n",
       "      <th>count</th>\n",
       "    </tr>\n",
       "  </thead>\n",
       "  <tbody>\n",
       "    <tr>\n",
       "      <th>0</th>\n",
       "      <td>операции с автомобилем</td>\n",
       "      <td>0.093480</td>\n",
       "      <td>4279</td>\n",
       "    </tr>\n",
       "    <tr>\n",
       "      <th>1</th>\n",
       "      <td>операции с недвижимостью</td>\n",
       "      <td>0.072551</td>\n",
       "      <td>10751</td>\n",
       "    </tr>\n",
       "    <tr>\n",
       "      <th>2</th>\n",
       "      <td>получение образования</td>\n",
       "      <td>0.092528</td>\n",
       "      <td>3988</td>\n",
       "    </tr>\n",
       "    <tr>\n",
       "      <th>3</th>\n",
       "      <td>проведение свадьбы</td>\n",
       "      <td>0.079118</td>\n",
       "      <td>2313</td>\n",
       "    </tr>\n",
       "  </tbody>\n",
       "</table>\n",
       "</div>"
      ],
      "text/plain": [
       "           purpose_category      mean  count\n",
       "0    операции с автомобилем  0.093480   4279\n",
       "1  операции с недвижимостью  0.072551  10751\n",
       "2     получение образования  0.092528   3988\n",
       "3        проведение свадьбы  0.079118   2313"
      ]
     },
     "execution_count": 29,
     "metadata": {},
     "output_type": "execute_result"
    }
   ],
   "source": [
    "data_4 = data.groupby('purpose_category')['debt'].agg(['mean','count']).reset_index()# Ваш код будет здесь. Вы можете создавать новые ячейки.\n",
    "data_4"
   ]
  },
  {
   "cell_type": "code",
   "execution_count": 30,
   "id": "d9791967",
   "metadata": {},
   "outputs": [
    {
     "data": {
      "text/plain": [
       "<AxesSubplot:xlabel='purpose_category', ylabel='mean'>"
      ]
     },
     "execution_count": 30,
     "metadata": {},
     "output_type": "execute_result"
    },
    {
     "data": {
      "image/png": "[encoded data removed]",
      "text/plain": [
       "<Figure size 576x576 with 1 Axes>"
      ]
     },
     "metadata": {},
     "output_type": "display_data"
    }
   ],
   "source": [
    "plt.figure(figsize = (8, 8))\n",
    "plt.xticks(rotation=45)\n",
    "sns.barplot(data = data_4, x = 'purpose_category', y = 'mean')"
   ]
  },
  {
   "cell_type": "markdown",
   "id": "b75567b9",
   "metadata": {
    "deletable": false,
    "id": "b4bb2ce6"
   },
   "source": [
    "**Вывод:** \n",
    "Самые платежоспособные люди которые брали кредит на недвижимость, более ответственная покупка и есть возможность потерять недвижимость и поэтому оплачивают во время. Что нелььзя сказать о кредите на покупку автомобиля и на получения образования(меньше всего вероятность оплатить кредит)."
   ]
  },
  {
   "cell_type": "markdown",
   "id": "616634ff",
   "metadata": {
    "deletable": false,
    "editable": false,
    "id": "09c3ac4c"
   },
   "source": [
    "#### 3.5 Приведите возможные причины появления пропусков в исходных данных."
   ]
  },
  {
   "cell_type": "markdown",
   "id": "8976e69e",
   "metadata": {
    "deletable": false,
    "id": "9da2ceda"
   },
   "source": [
    "*Ответ:* Это связано по двум причинам 1) по технологическим причинам 2) и вызванные человеческим фактором\n",
    "\n",
    "Самой вероятной причиной в нашем случае я считаю, что эти ошибки вызваны человеческим фактором. Люди ошибаются и делают это постоянно. Дайте человеку возможность ввести данные, и он обязательно даст промашку: опечатается в тексте, укажет другой порядок величин, перепутает числа или категориальные значения."
   ]
  },
  {
   "cell_type": "markdown",
   "id": "ba1f5d48",
   "metadata": {
    "deletable": false,
    "editable": false,
    "id": "7b0487d6"
   },
   "source": [
    "#### 3.6 Объясните, почему заполнить пропуски медианным значением — лучшее решение для количественных переменных."
   ]
  },
  {
   "cell_type": "markdown",
   "id": "7a32ce7c",
   "metadata": {
    "deletable": false,
    "id": "7ecf2b8e"
   },
   "source": [
    "*Ответ:*\n",
    "Медиана самая информативная мера центральной тенденции для искаженных распределений или распределений с выбросами. Например, медиана часто используется в качестве меры центральной тенденции для распределения доходов, которое, как правило, сильно искажено."
   ]
  },
  {
   "cell_type": "markdown",
   "id": "185d53e7",
   "metadata": {
    "deletable": false,
    "editable": false,
    "id": "6db5255a"
   },
   "source": [
    "### Шаг 4: общий вывод."
   ]
  },
  {
   "cell_type": "markdown",
   "id": "036e5bf0",
   "metadata": {
    "deletable": false,
    "id": "bad65432"
   },
   "source": [
    "Напишите ваш общий вывод.\n",
    "Во первых хочу пройтись по тому, что цель кредита очень важна и, что люди берущие кредит на недвижимость самые рентабильные. Люди берущие кредит на образование и авто, у них этот показатель ниже. \n",
    "Во вторых уровень дохода так же очень важень, тут самые оправдывающие люди с достатком чють выше и ниже среднего(В и D, нужны дополнительные иследования для того что бы понять с чем жто связанно)\n",
    "В тертьих считаю, что Не женатым / не замужним, сложней выплачивать кредит одному и видна разница. Женатым / замужним легче выплачивать кредит т.к. есть кредитное плечо и супруг может помочь закрыть кредит и все таки двоим легче закрыть кредит чем одному. \n",
    "И последний пункт, клиенты у которых нету детей вероятность возврата кредита в срок больше всего, этому соответствует средняя величина задолжностей при наибольшем количестве.\n",
    "\n",
    "Банк очен редко опирается только на один показать, что бы построить общюю картину. В целом можно сказать, это MVP (минимально жизнеспособный продукт), и что тут было бы неплохо проделать более широкое исследование. Например посмотреть как влияет сочетание двух факторов (например доходов и кол-во детей одновременно)."
   ]
  },
  {
   "cell_type": "code",
   "execution_count": null,
   "id": "6af000ea",
   "metadata": {},
   "outputs": [],
   "source": []
  }
 ],
 "metadata": {
  "ExecuteTimeLog": [
   {
    "duration": 56,
    "start_time": "2022-11-10T20:20:13.982Z"
   },
   {
    "duration": 25,
    "start_time": "2022-11-10T20:20:16.006Z"
   },
   {
    "duration": 9,
    "start_time": "2022-11-10T20:20:52.325Z"
   },
   {
    "duration": 15,
    "start_time": "2022-11-10T20:20:55.041Z"
   },
   {
    "duration": 32,
    "start_time": "2022-11-10T20:20:57.470Z"
   },
   {
    "duration": 33,
    "start_time": "2022-11-10T20:20:58.263Z"
   },
   {
    "duration": 4,
    "start_time": "2022-11-10T20:20:59.942Z"
   },
   {
    "duration": 9,
    "start_time": "2022-11-10T20:21:00.945Z"
   },
   {
    "duration": 8,
    "start_time": "2022-11-10T20:21:02.650Z"
   },
   {
    "duration": 5,
    "start_time": "2022-11-10T20:21:05.003Z"
   },
   {
    "duration": 9,
    "start_time": "2022-11-10T20:21:06.381Z"
   },
   {
    "duration": 5,
    "start_time": "2022-11-10T20:21:07.238Z"
   },
   {
    "duration": 33,
    "start_time": "2022-11-10T20:21:08.686Z"
   },
   {
    "duration": 10,
    "start_time": "2022-11-10T20:21:10.669Z"
   },
   {
    "duration": 4,
    "start_time": "2022-11-10T20:21:12.148Z"
   },
   {
    "duration": 11,
    "start_time": "2022-11-10T20:21:13.373Z"
   },
   {
    "duration": 21,
    "start_time": "2022-11-10T20:21:14.509Z"
   },
   {
    "duration": 19,
    "start_time": "2022-11-10T20:21:15.625Z"
   },
   {
    "duration": 4,
    "start_time": "2022-11-10T20:21:19.109Z"
   },
   {
    "duration": 9,
    "start_time": "2022-11-10T20:21:20.413Z"
   },
   {
    "duration": 6,
    "start_time": "2022-11-10T20:21:22.122Z"
   },
   {
    "duration": 3,
    "start_time": "2022-11-10T20:21:24.878Z"
   },
   {
    "duration": 8,
    "start_time": "2022-11-10T20:21:26.213Z"
   },
   {
    "duration": 23,
    "start_time": "2022-11-10T20:32:50.032Z"
   },
   {
    "duration": 18,
    "start_time": "2022-11-10T20:33:05.844Z"
   },
   {
    "duration": 14,
    "start_time": "2022-11-10T20:45:32.618Z"
   },
   {
    "duration": 18,
    "start_time": "2022-11-10T20:45:44.421Z"
   },
   {
    "duration": 2,
    "start_time": "2022-11-10T20:45:46.297Z"
   },
   {
    "duration": 3,
    "start_time": "2022-11-10T20:48:08.399Z"
   },
   {
    "duration": 64,
    "start_time": "2022-11-10T21:26:19.287Z"
   },
   {
    "duration": 48,
    "start_time": "2022-11-11T08:09:24.949Z"
   },
   {
    "duration": 13,
    "start_time": "2022-11-11T08:09:25.750Z"
   },
   {
    "duration": 14,
    "start_time": "2022-11-11T08:09:28.038Z"
   },
   {
    "duration": 3,
    "start_time": "2022-11-11T08:09:34.798Z"
   },
   {
    "duration": 57,
    "start_time": "2022-11-11T08:09:43.743Z"
   },
   {
    "duration": 7,
    "start_time": "2022-11-11T08:09:45.300Z"
   },
   {
    "duration": 28,
    "start_time": "2022-11-11T08:11:16.446Z"
   },
   {
    "duration": 26,
    "start_time": "2022-11-11T08:12:51.563Z"
   },
   {
    "duration": 6,
    "start_time": "2022-11-11T08:16:32.536Z"
   },
   {
    "duration": 7,
    "start_time": "2022-11-11T08:16:49.087Z"
   },
   {
    "duration": 3,
    "start_time": "2022-11-11T08:16:50.154Z"
   },
   {
    "duration": 19,
    "start_time": "2022-11-11T08:16:52.389Z"
   },
   {
    "duration": 20,
    "start_time": "2022-11-11T08:16:52.885Z"
   },
   {
    "duration": 13,
    "start_time": "2022-11-11T08:16:58.825Z"
   },
   {
    "duration": 10,
    "start_time": "2022-11-11T08:17:00.176Z"
   },
   {
    "duration": 32,
    "start_time": "2022-11-11T08:17:01.824Z"
   },
   {
    "duration": 5,
    "start_time": "2022-11-11T08:17:05.146Z"
   },
   {
    "duration": 8,
    "start_time": "2022-11-11T08:17:06.460Z"
   },
   {
    "duration": 4,
    "start_time": "2022-11-11T08:17:07.424Z"
   },
   {
    "duration": 10,
    "start_time": "2022-11-11T08:17:09.219Z"
   },
   {
    "duration": 9,
    "start_time": "2022-11-11T08:17:12.833Z"
   },
   {
    "duration": 66,
    "start_time": "2022-11-11T08:17:18.052Z"
   },
   {
    "duration": 13,
    "start_time": "2022-11-11T08:17:18.119Z"
   },
   {
    "duration": 19,
    "start_time": "2022-11-11T08:17:18.134Z"
   },
   {
    "duration": 9,
    "start_time": "2022-11-11T08:17:18.154Z"
   },
   {
    "duration": 35,
    "start_time": "2022-11-11T08:17:18.164Z"
   },
   {
    "duration": 4,
    "start_time": "2022-11-11T08:17:18.200Z"
   },
   {
    "duration": 12,
    "start_time": "2022-11-11T08:17:18.205Z"
   },
   {
    "duration": 6,
    "start_time": "2022-11-11T08:17:18.219Z"
   },
   {
    "duration": 8,
    "start_time": "2022-11-11T08:17:18.226Z"
   },
   {
    "duration": 25,
    "start_time": "2022-11-11T08:17:18.236Z"
   },
   {
    "duration": 36,
    "start_time": "2022-11-11T08:17:18.262Z"
   },
   {
    "duration": 9,
    "start_time": "2022-11-11T08:17:18.299Z"
   },
   {
    "duration": 4,
    "start_time": "2022-11-11T08:17:18.309Z"
   },
   {
    "duration": 12,
    "start_time": "2022-11-11T08:17:18.314Z"
   },
   {
    "duration": 32,
    "start_time": "2022-11-11T08:17:18.328Z"
   },
   {
    "duration": 15,
    "start_time": "2022-11-11T08:17:18.361Z"
   },
   {
    "duration": 3,
    "start_time": "2022-11-11T08:17:18.377Z"
   },
   {
    "duration": 15,
    "start_time": "2022-11-11T08:17:18.382Z"
   },
   {
    "duration": 5,
    "start_time": "2022-11-11T08:17:18.398Z"
   },
   {
    "duration": 4,
    "start_time": "2022-11-11T08:17:18.404Z"
   },
   {
    "duration": 50,
    "start_time": "2022-11-11T08:17:18.409Z"
   },
   {
    "duration": 6,
    "start_time": "2022-11-11T08:17:18.460Z"
   },
   {
    "duration": 5,
    "start_time": "2022-11-11T08:17:18.467Z"
   },
   {
    "duration": 5,
    "start_time": "2022-11-11T08:17:18.473Z"
   },
   {
    "duration": 6,
    "start_time": "2022-11-11T08:17:18.479Z"
   },
   {
    "duration": 7,
    "start_time": "2022-11-11T08:17:24.912Z"
   },
   {
    "duration": 12,
    "start_time": "2022-11-11T08:18:44.073Z"
   },
   {
    "duration": 885,
    "start_time": "2022-11-11T08:24:37.463Z"
   },
   {
    "duration": 11,
    "start_time": "2022-11-11T08:24:41.350Z"
   },
   {
    "duration": 171,
    "start_time": "2022-11-11T08:27:21.280Z"
   },
   {
    "duration": 5,
    "start_time": "2022-11-11T08:32:06.304Z"
   },
   {
    "duration": 51,
    "start_time": "2022-11-11T08:33:24.967Z"
   },
   {
    "duration": 42,
    "start_time": "2022-11-11T08:33:35.905Z"
   },
   {
    "duration": 161,
    "start_time": "2022-11-11T08:36:51.349Z"
   },
   {
    "duration": 151,
    "start_time": "2022-11-11T08:41:11.234Z"
   },
   {
    "duration": 158,
    "start_time": "2022-11-11T08:41:29.324Z"
   },
   {
    "duration": 8,
    "start_time": "2022-11-11T08:49:00.616Z"
   },
   {
    "duration": 8,
    "start_time": "2022-11-11T08:49:41.383Z"
   },
   {
    "duration": 9,
    "start_time": "2022-11-11T08:49:44.725Z"
   },
   {
    "duration": 7,
    "start_time": "2022-11-11T08:51:26.469Z"
   },
   {
    "duration": 14,
    "start_time": "2022-11-11T08:51:30.821Z"
   },
   {
    "duration": 16,
    "start_time": "2022-11-11T08:55:00.604Z"
   },
   {
    "duration": 147,
    "start_time": "2022-11-11T08:55:47.272Z"
   },
   {
    "duration": 184,
    "start_time": "2022-11-11T08:57:08.745Z"
   },
   {
    "duration": 174,
    "start_time": "2022-11-11T08:57:30.616Z"
   },
   {
    "duration": 189,
    "start_time": "2022-11-11T08:59:20.776Z"
   },
   {
    "duration": 816,
    "start_time": "2022-11-11T09:01:13.456Z"
   },
   {
    "duration": 817,
    "start_time": "2022-11-11T09:01:15.016Z"
   },
   {
    "duration": 259,
    "start_time": "2022-11-11T09:01:34.762Z"
   },
   {
    "duration": 155,
    "start_time": "2022-11-11T09:01:46.362Z"
   },
   {
    "duration": 141,
    "start_time": "2022-11-11T09:01:59.374Z"
   },
   {
    "duration": 146,
    "start_time": "2022-11-11T09:03:43.567Z"
   },
   {
    "duration": 8,
    "start_time": "2022-11-11T09:28:13.329Z"
   },
   {
    "duration": 8,
    "start_time": "2022-11-11T09:28:37.128Z"
   },
   {
    "duration": 6,
    "start_time": "2022-11-11T09:28:57.846Z"
   },
   {
    "duration": 2,
    "start_time": "2022-11-11T09:29:17.474Z"
   },
   {
    "duration": 8,
    "start_time": "2022-11-11T09:29:28.344Z"
   },
   {
    "duration": 24,
    "start_time": "2022-11-11T09:29:41.088Z"
   },
   {
    "duration": 12,
    "start_time": "2022-11-11T09:30:16.987Z"
   },
   {
    "duration": 11,
    "start_time": "2022-11-11T09:30:22.476Z"
   },
   {
    "duration": 130,
    "start_time": "2022-11-11T09:30:51.254Z"
   },
   {
    "duration": 15,
    "start_time": "2022-11-11T09:38:57.148Z"
   },
   {
    "duration": 143,
    "start_time": "2022-11-11T09:40:32.365Z"
   },
   {
    "duration": 134,
    "start_time": "2022-11-11T09:40:38.012Z"
   },
   {
    "duration": 2874,
    "start_time": "2022-11-11T09:47:12.128Z"
   },
   {
    "duration": 3285,
    "start_time": "2022-11-11T09:47:46.710Z"
   },
   {
    "duration": 153,
    "start_time": "2022-11-11T09:48:30.006Z"
   },
   {
    "duration": 783,
    "start_time": "2022-11-11T13:31:57.771Z"
   },
   {
    "duration": 15,
    "start_time": "2022-11-11T13:32:01.031Z"
   },
   {
    "duration": 90,
    "start_time": "2022-11-11T13:32:02.707Z"
   },
   {
    "duration": 70,
    "start_time": "2022-11-11T13:32:11.849Z"
   },
   {
    "duration": 1178,
    "start_time": "2022-11-11T13:32:16.628Z"
   },
   {
    "duration": 51,
    "start_time": "2022-11-11T13:32:30.279Z"
   },
   {
    "duration": 4,
    "start_time": "2022-11-11T13:32:34.307Z"
   },
   {
    "duration": 37,
    "start_time": "2022-11-11T13:32:35.849Z"
   },
   {
    "duration": 203,
    "start_time": "2022-11-11T13:32:38.957Z"
   },
   {
    "duration": 7,
    "start_time": "2022-11-11T13:32:41.640Z"
   },
   {
    "duration": 5,
    "start_time": "2022-11-11T13:32:43.795Z"
   },
   {
    "duration": 16,
    "start_time": "2022-11-11T13:33:03.239Z"
   },
   {
    "duration": 20,
    "start_time": "2022-11-11T13:33:07.869Z"
   },
   {
    "duration": 12,
    "start_time": "2022-11-11T13:33:11.024Z"
   },
   {
    "duration": 40,
    "start_time": "2022-11-11T13:33:13.300Z"
   },
   {
    "duration": 42,
    "start_time": "2022-11-11T13:33:14.175Z"
   },
   {
    "duration": 6,
    "start_time": "2022-11-11T13:33:15.453Z"
   },
   {
    "duration": 13,
    "start_time": "2022-11-11T13:33:17.166Z"
   },
   {
    "duration": 4,
    "start_time": "2022-11-11T13:33:19.545Z"
   },
   {
    "duration": 8,
    "start_time": "2022-11-11T13:33:21.907Z"
   },
   {
    "duration": 5,
    "start_time": "2022-11-11T13:33:23.740Z"
   },
   {
    "duration": 35,
    "start_time": "2022-11-11T13:33:26.084Z"
   },
   {
    "duration": 10,
    "start_time": "2022-11-11T13:33:31.745Z"
   },
   {
    "duration": 4,
    "start_time": "2022-11-11T13:33:34.540Z"
   },
   {
    "duration": 14,
    "start_time": "2022-11-11T13:33:36.171Z"
   },
   {
    "duration": 23,
    "start_time": "2022-11-11T13:33:37.524Z"
   },
   {
    "duration": 20,
    "start_time": "2022-11-11T13:33:39.421Z"
   },
   {
    "duration": 4,
    "start_time": "2022-11-11T13:33:41.807Z"
   },
   {
    "duration": 11,
    "start_time": "2022-11-11T13:33:43.194Z"
   },
   {
    "duration": 6,
    "start_time": "2022-11-11T13:33:44.910Z"
   },
   {
    "duration": 4,
    "start_time": "2022-11-11T13:33:48.203Z"
   },
   {
    "duration": 39,
    "start_time": "2022-11-11T13:33:49.851Z"
   },
   {
    "duration": 159,
    "start_time": "2022-11-11T13:33:57.799Z"
   },
   {
    "duration": 7,
    "start_time": "2022-11-11T13:34:04.698Z"
   },
   {
    "duration": 4,
    "start_time": "2022-11-11T13:34:10.300Z"
   },
   {
    "duration": 23,
    "start_time": "2022-11-11T13:34:19.766Z"
   },
   {
    "duration": 181,
    "start_time": "2022-11-11T13:34:23.419Z"
   },
   {
    "duration": 12,
    "start_time": "2022-11-11T13:34:28.999Z"
   },
   {
    "duration": 143,
    "start_time": "2022-11-11T13:34:33.990Z"
   },
   {
    "duration": 16,
    "start_time": "2022-11-11T13:34:38.271Z"
   },
   {
    "duration": 159,
    "start_time": "2022-11-11T13:34:43.508Z"
   },
   {
    "duration": 0,
    "start_time": "2022-11-12T07:08:50.884Z"
   },
   {
    "duration": 10,
    "start_time": "2022-11-12T07:08:51.771Z"
   },
   {
    "duration": 10,
    "start_time": "2022-11-12T07:08:53.142Z"
   },
   {
    "duration": 10,
    "start_time": "2022-11-12T07:08:54.216Z"
   },
   {
    "duration": 284,
    "start_time": "2022-11-12T07:08:59.712Z"
   },
   {
    "duration": 18,
    "start_time": "2022-11-12T07:08:59.998Z"
   },
   {
    "duration": 15,
    "start_time": "2022-11-12T07:09:00.017Z"
   },
   {
    "duration": 10,
    "start_time": "2022-11-12T07:09:00.034Z"
   },
   {
    "duration": 65,
    "start_time": "2022-11-12T07:09:00.047Z"
   },
   {
    "duration": 4,
    "start_time": "2022-11-12T07:09:00.114Z"
   },
   {
    "duration": 37,
    "start_time": "2022-11-12T07:09:00.120Z"
   },
   {
    "duration": 16,
    "start_time": "2022-11-12T07:09:00.159Z"
   },
   {
    "duration": 49,
    "start_time": "2022-11-12T07:09:00.177Z"
   },
   {
    "duration": 16,
    "start_time": "2022-11-12T07:09:00.228Z"
   },
   {
    "duration": 58,
    "start_time": "2022-11-12T07:09:00.246Z"
   },
   {
    "duration": 14,
    "start_time": "2022-11-12T07:09:00.305Z"
   },
   {
    "duration": 9,
    "start_time": "2022-11-12T07:09:00.320Z"
   },
   {
    "duration": 18,
    "start_time": "2022-11-12T07:09:00.332Z"
   },
   {
    "duration": 28,
    "start_time": "2022-11-12T07:09:00.351Z"
   },
   {
    "duration": 20,
    "start_time": "2022-11-12T07:09:00.381Z"
   },
   {
    "duration": 4,
    "start_time": "2022-11-12T07:09:00.403Z"
   },
   {
    "duration": 28,
    "start_time": "2022-11-12T07:09:00.409Z"
   },
   {
    "duration": 30,
    "start_time": "2022-11-12T07:09:00.439Z"
   },
   {
    "duration": 18,
    "start_time": "2022-11-12T07:09:00.470Z"
   },
   {
    "duration": 71,
    "start_time": "2022-11-12T07:09:00.490Z"
   },
   {
    "duration": 186,
    "start_time": "2022-11-12T07:09:00.563Z"
   },
   {
    "duration": 0,
    "start_time": "2022-11-12T07:09:00.751Z"
   },
   {
    "duration": 0,
    "start_time": "2022-11-12T07:09:00.752Z"
   },
   {
    "duration": 0,
    "start_time": "2022-11-12T07:09:00.753Z"
   },
   {
    "duration": 0,
    "start_time": "2022-11-12T07:09:00.754Z"
   },
   {
    "duration": 0,
    "start_time": "2022-11-12T07:09:00.755Z"
   },
   {
    "duration": 0,
    "start_time": "2022-11-12T07:09:00.755Z"
   },
   {
    "duration": 0,
    "start_time": "2022-11-12T07:09:00.756Z"
   },
   {
    "duration": 0,
    "start_time": "2022-11-12T07:09:00.757Z"
   },
   {
    "duration": 143,
    "start_time": "2022-11-12T07:09:13.624Z"
   },
   {
    "duration": 144,
    "start_time": "2022-11-12T07:09:24.086Z"
   },
   {
    "duration": 144,
    "start_time": "2022-11-12T07:10:35.572Z"
   },
   {
    "duration": 156,
    "start_time": "2022-11-12T07:10:36.469Z"
   },
   {
    "duration": 140,
    "start_time": "2022-11-12T07:10:37.308Z"
   },
   {
    "duration": 29,
    "start_time": "2022-11-12T07:10:43.493Z"
   },
   {
    "duration": 148,
    "start_time": "2022-11-12T07:10:46.260Z"
   },
   {
    "duration": 7,
    "start_time": "2022-11-12T07:10:49.315Z"
   },
   {
    "duration": 226,
    "start_time": "2022-11-12T07:11:15.452Z"
   },
   {
    "duration": 151,
    "start_time": "2022-11-12T07:11:16.578Z"
   },
   {
    "duration": 167,
    "start_time": "2022-11-12T07:11:34.286Z"
   },
   {
    "duration": 9,
    "start_time": "2022-11-12T07:11:44.532Z"
   },
   {
    "duration": 135,
    "start_time": "2022-11-12T07:11:56.157Z"
   },
   {
    "duration": 7,
    "start_time": "2022-11-12T07:11:59.846Z"
   },
   {
    "duration": 7,
    "start_time": "2022-11-12T07:12:52.043Z"
   },
   {
    "duration": 14,
    "start_time": "2022-11-12T07:21:01.322Z"
   },
   {
    "duration": 157,
    "start_time": "2022-11-12T07:21:03.531Z"
   },
   {
    "duration": 12,
    "start_time": "2022-11-12T07:21:07.879Z"
   },
   {
    "duration": 124,
    "start_time": "2022-11-12T07:21:09.882Z"
   },
   {
    "duration": 13,
    "start_time": "2022-11-12T07:21:12.086Z"
   },
   {
    "duration": 145,
    "start_time": "2022-11-12T07:21:13.534Z"
   },
   {
    "duration": 46,
    "start_time": "2023-02-14T06:26:32.595Z"
   },
   {
    "duration": 688,
    "start_time": "2023-02-14T06:26:44.915Z"
   },
   {
    "duration": 21,
    "start_time": "2023-02-14T06:26:45.604Z"
   },
   {
    "duration": 14,
    "start_time": "2023-02-14T06:26:45.627Z"
   },
   {
    "duration": 8,
    "start_time": "2023-02-14T06:26:45.642Z"
   },
   {
    "duration": 31,
    "start_time": "2023-02-14T06:26:45.652Z"
   },
   {
    "duration": 3,
    "start_time": "2023-02-14T06:26:45.684Z"
   },
   {
    "duration": 10,
    "start_time": "2023-02-14T06:26:45.688Z"
   },
   {
    "duration": 4,
    "start_time": "2023-02-14T06:26:45.699Z"
   },
   {
    "duration": 9,
    "start_time": "2023-02-14T06:26:45.704Z"
   },
   {
    "duration": 4,
    "start_time": "2023-02-14T06:26:45.714Z"
   },
   {
    "duration": 55,
    "start_time": "2023-02-14T06:26:45.719Z"
   },
   {
    "duration": 8,
    "start_time": "2023-02-14T06:26:45.776Z"
   },
   {
    "duration": 4,
    "start_time": "2023-02-14T06:26:45.786Z"
   },
   {
    "duration": 10,
    "start_time": "2023-02-14T06:26:45.793Z"
   },
   {
    "duration": 19,
    "start_time": "2023-02-14T06:26:45.805Z"
   },
   {
    "duration": 15,
    "start_time": "2023-02-14T06:26:45.848Z"
   },
   {
    "duration": 3,
    "start_time": "2023-02-14T06:26:45.865Z"
   },
   {
    "duration": 11,
    "start_time": "2023-02-14T06:26:45.869Z"
   },
   {
    "duration": 8,
    "start_time": "2023-02-14T06:26:45.881Z"
   },
   {
    "duration": 4,
    "start_time": "2023-02-14T06:26:45.891Z"
   },
   {
    "duration": 61,
    "start_time": "2023-02-14T06:26:45.897Z"
   },
   {
    "duration": 812,
    "start_time": "2023-02-14T06:26:45.959Z"
   },
   {
    "duration": 6,
    "start_time": "2023-02-14T06:26:46.774Z"
   },
   {
    "duration": 13,
    "start_time": "2023-02-14T06:26:46.781Z"
   },
   {
    "duration": 154,
    "start_time": "2023-02-14T06:26:46.796Z"
   },
   {
    "duration": 10,
    "start_time": "2023-02-14T06:26:46.952Z"
   },
   {
    "duration": 137,
    "start_time": "2023-02-14T06:26:46.963Z"
   },
   {
    "duration": 11,
    "start_time": "2023-02-14T06:26:47.102Z"
   },
   {
    "duration": 146,
    "start_time": "2023-02-14T06:26:47.115Z"
   },
   {
    "duration": 24,
    "start_time": "2023-02-14T06:26:56.091Z"
   },
   {
    "duration": 21,
    "start_time": "2023-02-14T06:26:57.425Z"
   },
   {
    "duration": 23,
    "start_time": "2023-02-14T06:26:59.893Z"
   },
   {
    "duration": 34,
    "start_time": "2023-02-14T06:27:25.232Z"
   }
  ],
  "colab": {
   "name": "dpp_template_part2.ipynb",
   "provenance": []
  },
  "kernelspec": {
   "display_name": "Python 3 (ipykernel)",
   "language": "python",
   "name": "python3"
  },
  "language_info": {
   "codemirror_mode": {
    "name": "ipython",
    "version": 3
   },
   "file_extension": ".py",
   "mimetype": "text/x-python",
   "name": "python",
   "nbconvert_exporter": "python",
   "pygments_lexer": "ipython3",
   "version": "3.9.5"
  },
  "toc": {
   "base_numbering": 1,
   "nav_menu": {},
   "number_sections": true,
   "sideBar": true,
   "skip_h1_title": true,
   "title_cell": "Table of Contents",
   "title_sidebar": "Contents",
   "toc_cell": false,
   "toc_position": {},
   "toc_section_display": true,
   "toc_window_display": false
  }
 },
 "nbformat": 4,
 "nbformat_minor": 5
}
